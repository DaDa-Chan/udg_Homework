{
 "cells": [
  {
   "cell_type": "markdown",
   "id": "fb5800ea-7eec-4380-9eaa-6aba322d77ce",
   "metadata": {},
   "source": [
    "# Numpy自学教程\n",
    "___Remark:___ 本自学笔记参照Numpy官方文档"
   ]
  },
  {
   "cell_type": "markdown",
   "id": "5c260209-59ea-4e32-9ba1-978c594ddd1c",
   "metadata": {
    "jp-MarkdownHeadingCollapsed": true
   },
   "source": [
    "## Numpy中的Array Creation"
   ]
  },
  {
   "cell_type": "markdown",
   "id": "ce58a340-a721-4166-9b83-0259709de7a7",
   "metadata": {},
   "source": [
    "### Introduction\n",
    "主要有六种创建matrix的机制\n",
    "1. 序列转化（list & tuple）\n",
    "2. 基本的内置函数\n",
    "3. 复制、连接或改变现有数组\n",
    "4. 从磁盘读取数组，从标准格式或自定义格式读取\n",
    "5. 通过使用字符串或缓冲区从原始字节创建数组\n",
    "6. 使用特殊的库函数（e.g. random）"
   ]
  },
  {
   "cell_type": "markdown",
   "id": "5e9d7fe9-bd8f-46f0-82bf-8dff8bab6550",
   "metadata": {},
   "source": [
    "#### 序列转化\n",
    "将数组或者元组转化为矩阵\n",
    "\n",
    "___np.array（x,dtype）:___ x为数组or元组，dtpye是optional的\n"
   ]
  },
  {
   "cell_type": "code",
   "execution_count": 44,
   "id": "70890bb4-5bee-4724-957b-43ffb6af011a",
   "metadata": {},
   "outputs": [
    {
     "data": {
      "text/plain": [
       "[array([1, 2, 3, 4]),\n",
       " array([[1, 2],\n",
       "        [3, 4]]),\n",
       " array([[[1, 2],\n",
       "         [3, 4]],\n",
       " \n",
       "        [[5, 6],\n",
       "         [7, 8]]]),\n",
       " array([[1, 2, 3, 4]])]"
      ]
     },
     "execution_count": 44,
     "metadata": {},
     "output_type": "execute_result"
    },
    {
     "name": "stdout",
     "output_type": "stream",
     "text": [
      "The history saving thread hit an unexpected error (OperationalError('attempt to write a readonly database')).History will not be written to the database.\n"
     ]
    }
   ],
   "source": [
    "import numpy as np\n",
    "a1D = np.array([1, 2, 3, 4])\n",
    "a1d = np.array([[1,2,3,4]])\n",
    "a2D = np.array([[1, 2], [3, 4]])\n",
    "a3D = np.array([[[1, 2], [3, 4]], [[5, 6], [7, 8]]])\n",
    "[a1D,a2D,a3D,a1d]"
   ]
  },
  {
   "cell_type": "markdown",
   "id": "fdb37262-380a-42c6-8957-d9e8b2b7d161",
   "metadata": {},
   "source": [
    "**Note:** 一层中括号创建的是 1D 数组，而两层中括号创建的是 2D 数组。根据需要的形状和拼接方式，选择不同的括号嵌套结构。"
   ]
  },
  {
   "cell_type": "markdown",
   "id": "819c8efb-b370-4d68-a4fd-3d11c33a6d2b",
   "metadata": {},
   "source": [
    "#### 基本的内置函数\n",
    "Numpy官方文档有40个构建函数，具体可以参考[Array creation routines](https://numpy.org/doc/stable/reference/routines.array-creation.html#routines-array-creation)，\n",
    "但总的来说主要可以分为三类\n",
    "1. 1D arrays\n",
    "2. 2D arrays\n",
    "3. nD arrays\n",
    "\n",
    "以下举例的函数只是简要介绍，具体请参照以上文件。"
   ]
  },
  {
   "cell_type": "markdown",
   "id": "1c57c6a2-4144-451b-9b26-edcffbea1ad5",
   "metadata": {},
   "source": [
    "##### 1D arrays\n",
    "创建 1D Arrays 的functions（e.g. np.linspace(),np.arrange()）通常需要两个变量：start，stop\n",
    "- ___np.arange([start,]stop[,step]）:___ 类似于python中的range函数,左开右闭，start=0、step=1(default),一般用于元素为整数的情况\n",
    "- ___np.linspace(start,stop,num):___ 左闭右闭，生成以start为开始，stop为结束的均分的num个元素组成的1D Array\n",
    "\n",
    "以下是一些例子："
   ]
  },
  {
   "cell_type": "code",
   "execution_count": 45,
   "id": "28b1b1ba-336f-4c4d-aa3b-9c7e65b193db",
   "metadata": {},
   "outputs": [
    {
     "data": {
      "text/plain": [
       "[array([0, 1, 2, 3, 4]),\n",
       " array([1, 2, 3, 4, 5]),\n",
       " array([2. , 2.2, 2.4, 2.6, 2.8]),\n",
       " array([0.  , 0.25, 0.5 , 0.75, 1.  ])]"
      ]
     },
     "execution_count": 45,
     "metadata": {},
     "output_type": "execute_result"
    }
   ],
   "source": [
    "arr1 = np.arange(5)\n",
    "arr2 = np.arange(1,6)\n",
    "arr3 = np.arange(2,3,0.2)\n",
    "arr4 = np.linspace(0,1,5)\n",
    "\n",
    "[arr1,arr2,arr3,arr4]"
   ]
  },
  {
   "cell_type": "markdown",
   "id": "8dd66713-029b-4eec-8f8f-5c3d6255eb97",
   "metadata": {},
   "source": [
    "##### 2D Arrays\n",
    "2D arrary定义了几个特殊矩阵（e.g. np.eye(),np.diag(),np.vander())，且具有特殊的性质\n",
    "1. ___np.eye(n[,m=n] [,k=0]):___ 输出除了对角线元素为1，其他都为0的矩阵，m默认=n，默认主对角线\n",
    "2. ___np.diag(v[,k=0]):___ 若给定对角线元上的元素则输出矩阵，若输入矩阵则输出对角线上的元素，默认主对角线\n",
    "3. ___np.vander(v[,N=None] [,increasing = False]):___ 输出Vandermonde矩阵，默认从左到右降幂，默认幂从小到大输出 __N=len(x)__ 列\n",
    "\n",
    "以下为一些例子："
   ]
  },
  {
   "cell_type": "code",
   "execution_count": 14,
   "id": "7c76106e-bc02-4667-93cb-8ffcda4afe11",
   "metadata": {},
   "outputs": [
    {
     "name": "stdout",
     "output_type": "stream",
     "text": [
      "[1 2 3] [1 2]\n"
     ]
    },
    {
     "data": {
      "text/plain": [
       "[array([[1., 0., 0.],\n",
       "        [0., 1., 0.],\n",
       "        [0., 0., 1.]]),\n",
       " array([[1., 0., 0., 0.],\n",
       "        [0., 1., 0., 0.]]),\n",
       " array([[1, 0, 0],\n",
       "        [0, 2, 0],\n",
       "        [0, 0, 3]]),\n",
       " array([[0, 1, 0],\n",
       "        [0, 0, 2],\n",
       "        [0, 0, 0]]),\n",
       " array([[ 1,  1,  1,  1],\n",
       "        [ 8,  4,  2,  1],\n",
       "        [27,  9,  3,  1],\n",
       "        [64, 16,  4,  1]]),\n",
       " array([[1, 1, 1],\n",
       "        [1, 2, 4],\n",
       "        [1, 3, 9]]),\n",
       " array([[1, 1],\n",
       "        [1, 2],\n",
       "        [1, 3]])]"
      ]
     },
     "execution_count": 14,
     "metadata": {},
     "output_type": "execute_result"
    }
   ],
   "source": [
    "arr1 = np.eye(3)\n",
    "arr2 = np.eye(2,4)\n",
    "arr3 = np.diag([1,2,3])\n",
    "arr4 = np.diag([1,2],1)\n",
    "d1 = np.diag(arr3)\n",
    "d2 = np.diag(arr4,1)\n",
    "arr5 = np.vander([1,2,3,4])\n",
    "arr6 = np.vander([1,2,3],increasing = True)\n",
    "arr7 = np.vander([1,2,3],2,increasing = True)\n",
    "print(d1,d2)\n",
    "[arr1,arr2,arr3,arr4,arr5,arr6,arr7]"
   ]
  },
  {
   "cell_type": "markdown",
   "id": "b5dbf41c-fea7-4d85-84ca-ffd13a189c32",
   "metadata": {},
   "source": [
    "##### __nd Arrays__ \n",
    "ndarray是根据所需的形状构建矩阵。ndarray创建函数可以通过指定元组或列表中该维度的维数和长度来创建任何维度的数组。\n",
    "1. ___np.ones(shape):___ 构建元素全为1的矩阵,shape是一个包含行、列的列表或者元组\n",
    "2. ___np.zeros(shape)：___ 构建元素全为0的矩阵，参数形式与ones基本一致\n",
    "3. ___default_rng(x).random(shape):___ 将创建一个充满0到1之间随机值的数组,x为种子\n",
    "4. ___np.indices(shape):___ 将创建一组数组（堆叠为一个高维数组），每个维度一个，每个表示该维度的变化\n",
    "\n",
    "以下是一些例子："
   ]
  },
  {
   "cell_type": "code",
   "execution_count": 16,
   "id": "e5d1772a-04b0-4b28-9590-fe4bc793f4d9",
   "metadata": {},
   "outputs": [
    {
     "data": {
      "text/plain": [
       "[array([[1., 1.],\n",
       "        [1., 1.]]),\n",
       " array([[[1., 1.],\n",
       "         [1., 1.]],\n",
       " \n",
       "        [[1., 1.],\n",
       "         [1., 1.]]]),\n",
       " array([[0., 0.],\n",
       "        [0., 0.]]),\n",
       " array([[[0., 0.],\n",
       "         [0., 0.]],\n",
       " \n",
       "        [[0., 0.],\n",
       "         [0., 0.]]]),\n",
       " array([[0.51182162, 0.9504637 ],\n",
       "        [0.14415961, 0.94864945]]),\n",
       " array([[[0.31183145, 0.42332645],\n",
       "         [0.82770259, 0.40919914]],\n",
       " \n",
       "        [[0.54959369, 0.02755911],\n",
       "         [0.75351311, 0.53814331]]]),\n",
       " array([[[0, 0, 0],\n",
       "         [1, 1, 1],\n",
       "         [2, 2, 2]],\n",
       " \n",
       "        [[0, 1, 2],\n",
       "         [0, 1, 2],\n",
       "         [0, 1, 2]]])]"
      ]
     },
     "execution_count": 16,
     "metadata": {},
     "output_type": "execute_result"
    }
   ],
   "source": [
    "from numpy.random import default_rng\n",
    "arr1 = np.ones((2,2))\n",
    "arr2 = np.ones((2,2,2))\n",
    "arr3 = np.zeros((2,2))\n",
    "arr4 = np.zeros((2,2,2))\n",
    "rng = default_rng(1)\n",
    "arr5 = rng.random((2,2))\n",
    "arr6 = rng.random((2,2,2))\n",
    "arr7 = np.indices((3,3))\n",
    "\n",
    "[arr1,arr2,arr3,arr4,arr5,arr6,arr7]"
   ]
  },
  {
   "cell_type": "markdown",
   "id": "cd3b9c55-7e3c-48e5-957f-4b5015a70e00",
   "metadata": {},
   "source": [
    "___Note:___ \n",
    "\n",
    "在 NumPy 中，数组的维度是由 shape（形状）参数决定的：\n",
    "\n",
    "- 一维数组：如 [1, 2, 3]，形状是 (3,)。\n",
    "- 二维数组（矩阵）：如 [[1, 2, 3], [4, 5, 6]]，形状是 (2,3)。\n",
    "- 三维数组（张量）：是多个二维矩阵的集合，形状是 (depth, rows, cols)。\n",
    "\n",
    "- (x,) 代表标准 1D 数组，没有明确的行/列概念。\n",
    "- (1, x) 代表 行向量（二维数组）。\n",
    "- (x, 1) 代表 列向量（二维数组）。"
   ]
  },
  {
   "cell_type": "markdown",
   "id": "7c95acef-c04a-4054-9d4f-ad29d1ceb4e2",
   "metadata": {
    "jp-MarkdownHeadingCollapsed": true
   },
   "source": [
    "## 打印矩阵"
   ]
  },
  {
   "cell_type": "markdown",
   "id": "93965413-c6d3-437f-bb4b-b49826b81241",
   "metadata": {},
   "source": [
    "在Numpy中打印矩阵遵循以下三条准则\n",
    "\n",
    "- 最后一维从左向右打印\n",
    "- 倒数第二维是从上向下打印\n",
    "- 其他维数都是从上向下打印，每个切片之前有空行分隔\n",
    "\n",
    "一维array被打印成列表，二维array被打印成矩阵，三维array被打印成张量\n"
   ]
  },
  {
   "cell_type": "code",
   "execution_count": 2,
   "id": "530f4a2e-a4d5-42fb-b8e0-25fffbb9996b",
   "metadata": {},
   "outputs": [
    {
     "name": "stdout",
     "output_type": "stream",
     "text": [
      "[0 1 2 3 4 5]\n",
      "[[ 0  1  2]\n",
      " [ 3  4  5]\n",
      " [ 6  7  8]\n",
      " [ 9 10 11]]\n",
      "[[[ 0  1  2  3]\n",
      "  [ 4  5  6  7]\n",
      "  [ 8  9 10 11]]\n",
      "\n",
      " [[12 13 14 15]\n",
      "  [16 17 18 19]\n",
      "  [20 21 22 23]]]\n"
     ]
    }
   ],
   "source": [
    "import numpy as np\n",
    "a = np.arange(6)                    # 1d array\n",
    "print(a)\n",
    "b = np.arange(12).reshape(4, 3)     # 2d array\n",
    "print(b)\n",
    "c = np.arange(24).reshape(2, 3, 4)  # 3d array\n",
    "print(c)\n"
   ]
  },
  {
   "cell_type": "markdown",
   "id": "925f1c5d-0657-40f1-823c-7042bff6c540",
   "metadata": {},
   "source": [
    "如果一个array太大而难以被打印，则打印出来的结果会省略中间的元素，只显示角落的元素"
   ]
  },
  {
   "cell_type": "code",
   "execution_count": 4,
   "id": "3e8c70b0-ae27-4ff7-a7bd-bdb3a697b977",
   "metadata": {},
   "outputs": [
    {
     "name": "stdout",
     "output_type": "stream",
     "text": [
      "[[   0    1    2 ...   97   98   99]\n",
      " [ 100  101  102 ...  197  198  199]\n",
      " [ 200  201  202 ...  297  298  299]\n",
      " ...\n",
      " [9700 9701 9702 ... 9797 9798 9799]\n",
      " [9800 9801 9802 ... 9897 9898 9899]\n",
      " [9900 9901 9902 ... 9997 9998 9999]]\n"
     ]
    }
   ],
   "source": [
    "a = np.arange(10000).reshape(100,100)\n",
    "print(a)"
   ]
  },
  {
   "cell_type": "markdown",
   "id": "4f997939-0ffa-4d6c-b3f5-20250a951cff",
   "metadata": {},
   "source": [
    "如果想要完整的打印，你可以改变打印的选择使用 __set_printoptions__"
   ]
  },
  {
   "cell_type": "code",
   "execution_count": null,
   "id": "2490dcfe-976c-4a50-8a1c-68237d70d936",
   "metadata": {},
   "outputs": [],
   "source": [
    "np.set_printoptions(threshold=sys.maxsize)  # sys module should be imported"
   ]
  },
  {
   "cell_type": "markdown",
   "id": "29dd1340-248d-46a0-a10f-17e74ee47797",
   "metadata": {
    "jp-MarkdownHeadingCollapsed": true
   },
   "source": [
    "## 基本的操作"
   ]
  },
  {
   "cell_type": "markdown",
   "id": "03de2caf-7779-4670-8390-7ea8a3550654",
   "metadata": {},
   "source": [
    "基本的数学操作是针对逐个元素的，特别的“*”表示对应元素相乘，而不是一般意义上的矩阵乘法"
   ]
  },
  {
   "cell_type": "code",
   "execution_count": 6,
   "id": "9c6a4671-c2d7-441c-8059-0d63712becb2",
   "metadata": {},
   "outputs": [
    {
     "name": "stdout",
     "output_type": "stream",
     "text": [
      "[10 12 14]\n",
      "[10 10 10]\n",
      "[ 0 11 24]\n",
      "[0 1 4]\n",
      "[0.         8.41470985 9.09297427]\n",
      "[ True False False]\n"
     ]
    }
   ],
   "source": [
    "a = np.arange(10,13)\n",
    "b = np.array([0,1,2])\n",
    "print(a+b)\n",
    "print(a-b)\n",
    "print(a*b)\n",
    "print(b**2)\n",
    "print(10*np.sin(b))\n",
    "print(b<1)"
   ]
  },
  {
   "cell_type": "markdown",
   "id": "4c719953-6da9-4b28-8f60-5a8f1ddd8ebf",
   "metadata": {},
   "source": [
    "矩阵乘法可以使用 __@__ 或者 dot函数来实现"
   ]
  },
  {
   "cell_type": "code",
   "execution_count": 8,
   "id": "6af86ef6-50f1-47ff-99b8-c621eec76c0b",
   "metadata": {},
   "outputs": [
    {
     "name": "stdout",
     "output_type": "stream",
     "text": [
      "[[2 0]\n",
      " [0 4]]\n",
      "[[5 4]\n",
      " [3 4]]\n",
      "[[5 4]\n",
      " [3 4]]\n"
     ]
    }
   ],
   "source": [
    "a = np.array([[1,1],[0,1]])\n",
    "b = np.array([[2,0],[3,4]])\n",
    "print(a*b) #元素之积\n",
    "print(a@b) #矩阵乘法\n",
    "print(a.dot(b)) #另一种矩阵乘法的方式\n"
   ]
  },
  {
   "cell_type": "markdown",
   "id": "b84a0a26-3b91-4d1e-92cb-3372fb59e53c",
   "metadata": {},
   "source": [
    "一些数学操作例如 __+=__,__*=__,同样适用于矩阵操作"
   ]
  },
  {
   "cell_type": "code",
   "execution_count": 13,
   "id": "4213c089-683a-4fac-9d60-e1915fd8387b",
   "metadata": {},
   "outputs": [
    {
     "name": "stdout",
     "output_type": "stream",
     "text": [
      "[[3 3 3]\n",
      " [3 3 3]]\n",
      "[[3.51182162 3.9504637  3.14415961]\n",
      " [3.94864945 3.31183145 3.42332645]]\n"
     ]
    }
   ],
   "source": [
    "from numpy.random import default_rng\n",
    "a = np.ones((2,3),dtype = int)\n",
    "rng = default_rng(1)\n",
    "b = rng.random((2,3))\n",
    "a *=3\n",
    "b +=a\n",
    "print(a)\n",
    "print(b)"
   ]
  },
  {
   "cell_type": "markdown",
   "id": "896f040c-f664-4c6a-84c5-af13981ea09a",
   "metadata": {},
   "source": [
    "对于元素类型的不同的矩阵进行运算，NumPy 会自动选择更“精确”或“更通用”的数据类型，以确保计算的精度不会丢失，称为 __upcasting__\n",
    "\n",
    "常见以下类型的转换：\n",
    "\n",
    "- bool → int → float → complex\n",
    "- int8 → int16 → int32 → int64\n",
    "- float16 → float32 → float64"
   ]
  },
  {
   "cell_type": "code",
   "execution_count": 14,
   "id": "9b972ae0-c4cf-4e03-9634-aba63ab9e537",
   "metadata": {},
   "outputs": [
    {
     "name": "stdout",
     "output_type": "stream",
     "text": [
      "float64\n",
      "int64\n",
      "[2 2 4]\n",
      "int32\n"
     ]
    }
   ],
   "source": [
    "arr1 = np.array([1, 2, 3], dtype=np.int32)  # int32 类型\n",
    "arr2 = np.array([1.5, 2.5, 3.5], dtype=np.float64)  # float64 类型\n",
    "\n",
    "result1 = arr1 + arr2\n",
    "print(result1.dtype)  # float64\n",
    "\n",
    "arr3 = np.array([1000, 2000, 3000], dtype=np.int32)  # int32\n",
    "arr4 = np.array([10000000000], dtype=np.int64)  # int64\n",
    "\n",
    "result2 = arr3 + arr4\n",
    "print(result2.dtype)  # int64\n",
    "\n",
    "arr5 = np.array([True, False, True], dtype=np.bool_)  # bool 类型\n",
    "arr6 = np.array([1, 2, 3], dtype=np.int32)  # int32 类型\n",
    "\n",
    "result = arr5 + arr6\n",
    "print(result)  # [2 2 4]\n",
    "print(result.dtype)  # int32"
   ]
  },
  {
   "cell_type": "markdown",
   "id": "660c0da1-a2fb-4fd5-90e2-0b5d5352e457",
   "metadata": {},
   "source": [
    "有许多一元操作作为ndarray类的方法实现"
   ]
  },
  {
   "cell_type": "code",
   "execution_count": 15,
   "id": "0ec1eb57-e8cc-4482-8e17-7c45ef62006f",
   "metadata": {},
   "outputs": [
    {
     "name": "stdout",
     "output_type": "stream",
     "text": [
      "[[0.82770259 0.40919914 0.54959369]\n",
      " [0.02755911 0.75351311 0.53814331]]\n",
      "0.8277025938204418 0.027559113243068367 3.1057109529998157\n"
     ]
    }
   ],
   "source": [
    "a = rng.random((2,3))\n",
    "print(a)\n",
    "print(a.max(),a.min(),a.sum())"
   ]
  },
  {
   "cell_type": "markdown",
   "id": "17a93b7b-b783-4063-a9ac-4be421026833",
   "metadata": {},
   "source": [
    "上述操作是作用于整个数组的，但是通过明确特定的参数 __axis__ 可以对矩阵的不同轴向进行操作"
   ]
  },
  {
   "cell_type": "code",
   "execution_count": 16,
   "id": "9be703ef-7305-4634-8acb-ab604429ea72",
   "metadata": {},
   "outputs": [
    {
     "name": "stdout",
     "output_type": "stream",
     "text": [
      "[[0 1 2]\n",
      " [3 4 5]]\n",
      "[3 5 7]\n",
      "[ 3 12]\n"
     ]
    }
   ],
   "source": [
    "a = np.arange(6).reshape(2,3)\n",
    "print(a)\n",
    "print(a.sum(axis=0))\n",
    "print(a.sum(axis=1))"
   ]
  },
  {
   "cell_type": "markdown",
   "id": "1ff15519-88ac-41ff-898a-c481a0988aa2",
   "metadata": {
    "jp-MarkdownHeadingCollapsed": true
   },
   "source": [
    "## 通用函数（数学函数）\n",
    "NumPy提供了熟悉的数学函数，如sin， cos和exp。在NumPy中，这些被称为“通用函数”（ufunc）。在NumPy中，这些函数按元素对数组进行操作，生成一个数组作为输出"
   ]
  },
  {
   "cell_type": "code",
   "execution_count": 17,
   "id": "961f7a41-19fd-4873-a9f9-735b64c77903",
   "metadata": {},
   "outputs": [
    {
     "name": "stdout",
     "output_type": "stream",
     "text": [
      "[1.         2.71828183 7.3890561 ]\n",
      "[0.         1.         1.41421356]\n",
      "[2. 0. 6.]\n"
     ]
    }
   ],
   "source": [
    "B = np.arange(3)\n",
    "print(np.exp(B))\n",
    "print(np.sqrt(B))\n",
    "C = np.array([2., -1., 4.])\n",
    "print(np.add(B, C))"
   ]
  },
  {
   "cell_type": "markdown",
   "id": "43bbb64f-dd8d-4238-849a-047ee1354baa",
   "metadata": {},
   "source": [
    "## 索引、切片和迭代"
   ]
  },
  {
   "cell_type": "markdown",
   "id": "a2f7acaf-99d5-46ca-9870-0189b5ddd9fb",
   "metadata": {},
   "source": [
    "一维array的操作类似于列表等python中其他的序列，并且任意n维度的arr可以通过切片中增加`newaxis`或者`None`来扩展arr的维度"
   ]
  },
  {
   "cell_type": "code",
   "execution_count": 17,
   "id": "89d9bd67-0b95-496b-b7b1-87a59489c043",
   "metadata": {
    "collapsed": true,
    "jupyter": {
     "outputs_hidden": true,
     "source_hidden": true
    },
    "scrolled": true
   },
   "outputs": [
    {
     "name": "stdout",
     "output_type": "stream",
     "text": [
      "[ 0  1  4  9 16 25 36 49 64 81]\n",
      "(10, 1, 1)\n",
      "(1, 10)\n",
      "[[  0   1   4   9  16  25  36  49  64  81]\n",
      " [  1   2   5  10  17  26  37  50  65  82]\n",
      " [  4   5   8  13  20  29  40  53  68  85]\n",
      " [  9  10  13  18  25  34  45  58  73  90]\n",
      " [ 16  17  20  25  32  41  52  65  80  97]\n",
      " [ 25  26  29  34  41  50  61  74  89 106]\n",
      " [ 36  37  40  45  52  61  72  85 100 117]\n",
      " [ 49  50  53  58  65  74  85  98 113 130]\n",
      " [ 64  65  68  73  80  89 100 113 128 145]\n",
      " [ 81  82  85  90  97 106 117 130 145 162]]\n"
     ]
    }
   ],
   "source": [
    "a = np.arange(10)**2\n",
    "print(a)\n",
    "'''\n",
    "print(a[1:4])\n",
    "print(a[:6:2])\n",
    "print(a[::-1]) #reversed a\n",
    "a[::2]=0\n",
    "print(a)\n",
    "'''\n",
    "print(a[:,None,None].shape)\n",
    "print(a[None,:].shape)#equal to \"a[np.newaxis,:]\"\n",
    "print(a[:,None]+a[None,:])"
   ]
  },
  {
   "cell_type": "markdown",
   "id": "cef1ccd2-1415-4741-a642-1bfeedb26718",
   "metadata": {},
   "source": [
    "多维数组每个维度都有一个索引，这些索引会用一个 元组 来表示，其中每个维度的索引用逗号隔开"
   ]
  },
  {
   "cell_type": "code",
   "execution_count": 7,
   "id": "e67917a8-3ae5-4a50-92b5-9149197ded4d",
   "metadata": {
    "collapsed": true,
    "jupyter": {
     "outputs_hidden": true,
     "source_hidden": true
    }
   },
   "outputs": [
    {
     "name": "stdout",
     "output_type": "stream",
     "text": [
      "6\n",
      "[[[1 2]\n",
      "  [3 4]]\n",
      "\n",
      " [[5 6]\n",
      "  [7 8]]]\n",
      "6\n",
      "[[1 2]\n",
      " [3 4]]\n",
      "[[1 2]\n",
      " [5 6]]\n",
      "[[1 3]\n",
      " [5 7]]\n",
      "[[[1 2]\n",
      "  [3 4]]\n",
      "\n",
      " [[0 0]\n",
      "  [0 0]]]\n"
     ]
    }
   ],
   "source": [
    "import numpy as np\n",
    "arr = np.array([[1, 2, 3], [4, 5, 6], [7, 8, 9]])\n",
    "\n",
    "# 访问二维数组的元素\n",
    "element = arr[1, 2]  # 访问第二行第三列的元素\n",
    "print(element)  # 输出 6\n",
    "\n",
    "arr_3d = np.array([[[1, 2], [3, 4]], [[5, 6], [7, 8]]])\n",
    "print(arr_3d)\n",
    "\n",
    "# 访问三维数组的元素 以及基本的切片操作\n",
    "element = arr_3d[1, 0, 1]  # 访问第二层的第一行第二列\n",
    "print(element)  # 输出 6\n",
    "print(arr_3d[0,:,:])\n",
    "print(arr_3d[:,0,:])\n",
    "print(arr_3d[:,:,0])\n",
    "\n",
    "#切片操作的修改\n",
    "arr_3d[1]=[[0,0],[0,0]]\n",
    "print(arr_3d)"
   ]
  },
  {
   "cell_type": "code",
   "execution_count": 25,
   "id": "c05212f1-a113-4b80-9c45-cdf86d5289f0",
   "metadata": {
    "collapsed": true,
    "jupyter": {
     "outputs_hidden": true
    },
    "scrolled": true
   },
   "outputs": [
    {
     "name": "stdout",
     "output_type": "stream",
     "text": [
      "[[ 0  1  2  3]\n",
      " [10 11 12 13]\n",
      " [20 21 22 23]\n",
      " [30 31 32 33]\n",
      " [40 41 42 43]]\n",
      "23\n",
      "[ 1 11 21 31 41]\n",
      "[ 1 11 21 31 41]\n",
      "[[10 11 12 13]\n",
      " [20 21 22 23]]\n",
      "[40 41 42 43]\n",
      "[ 3 13 23 33 43]\n"
     ]
    }
   ],
   "source": [
    "def f(x, y):\n",
    "    return 10 * x + y\n",
    "b = np.fromfunction(f, (5, 4), dtype=int)\n",
    "print(b)\n",
    "print(b[2, 3])\n",
    "print(b[0:5, 1])  # each row in the second column of b\n",
    "print(b[:, 1]  )  # equivalent to the previous example\n",
    "print(b[1:3, :] ) # each column in the second and third row of b\n",
    "print(b[-1]) # equal to b[-1,:]\n",
    "print(b[:,-1])"
   ]
  },
  {
   "cell_type": "markdown",
   "id": "0a4d5b83-b45e-411c-881b-854350ac3594",
   "metadata": {},
   "source": [
    "__np.fromfunction()__ 是 NumPy 中的一个函数，用于根据一个函数生成数组的内容。\n",
    "\n",
    "`numpy.fromfunction(function, shape, **kwargs)`\n",
    "\n",
    "- function：一个函数，接受每个维度的索引作为输入，返回对应位置的值。函数的输入参数应该是一个表示每个维度的索引数组\n",
    "- shape：一个元组，表示生成数组的形状（维度大小）\n",
    "- kwargs：可选的额外参数，传递给 function 函数\n",
    "\n",
    "`np.fromfunction()`  根据给定的函数生成一个数组，函数接收每个维度的索引作为输入，返回一个值。\n",
    "\n",
    "它适用于需要通过索引计算每个元素值的场景，可以非常方便地创建各种模式的数组。"
   ]
  },
  {
   "cell_type": "markdown",
   "id": "476cb57e-1771-4915-a005-d5695d5dd7c1",
   "metadata": {},
   "source": [
    "多维数组的迭代是相对于第一个轴完成的\n",
    "\n",
    "如果想要访问多维矩阵的每一个元素可以使用`falt`性质，一种numpy的迭代器"
   ]
  },
  {
   "cell_type": "code",
   "execution_count": 18,
   "id": "bf1a1409-d9e9-4abd-b5b2-dbd48a67747d",
   "metadata": {},
   "outputs": [
    {
     "name": "stdout",
     "output_type": "stream",
     "text": [
      "[[ 0  1  2]\n",
      " [10 11 12]]\n",
      "[0 1 2]\n",
      "[10 11 12]\n",
      "0\n",
      "1\n",
      "2\n",
      "10\n",
      "11\n",
      "12\n"
     ]
    }
   ],
   "source": [
    "def f(x, y):\n",
    "    return 10 * x + y\n",
    "b = np.fromfunction(f, (2, 3), dtype=int)\n",
    "print(b)\n",
    "for row in b:\n",
    "    print(row)\n",
    "for element in b.flat:\n",
    "    print(element)"
   ]
  },
  {
   "cell_type": "markdown",
   "id": "ac228904-f8f7-45b6-8eb0-71952e33fc82",
   "metadata": {},
   "source": [
    "#### **Advanced slicing**\n",
    "\n",
    "`x[obj]`当选择对象obj是一个非元组序列对象、一个ndarray（数据类型为整数或bool），或者一个至少包含一个序列对象或ndarray（数据类型为整数或bool）的元组时，会触发高级索引。"
   ]
  },
  {
   "cell_type": "code",
   "execution_count": 27,
   "id": "c376f1e6-a9b9-489e-bc3d-e7f039a1d7e0",
   "metadata": {},
   "outputs": [
    {
     "name": "stdout",
     "output_type": "stream",
     "text": [
      "[[0 1 2]\n",
      " [3 4 5]\n",
      " [6 7 8]]\n",
      "[0 2]\n",
      "[[0 1 2]\n",
      " [6 7 8]]\n",
      "[10 30 50]\n",
      "[[0 1 2]\n",
      " [6 7 8]]\n",
      "[1 8]\n"
     ]
    }
   ],
   "source": [
    "#创建一个 2D ndarray\n",
    "x = np.arange(9).reshape(3,3)\n",
    "print(x)\n",
    "#使用一个整数ndarray作为索引\n",
    "obj1 = np.array([0,2])\n",
    "print(obj1)\n",
    "\n",
    "print(x[obj1])\n",
    "\n",
    "# 创建一个 1D ndarray\n",
    "arr = np.array([10, 20, 30, 40, 50])\n",
    "\n",
    "# 使用布尔数组进行索引\n",
    "mask = np.array([True, False, True, False, True])\n",
    "selected_values = arr[mask]\n",
    "print(selected_values)\n",
    "\n",
    "obj2 = np.array([True,False,True])\n",
    "print(x[obj2])\n",
    "\n",
    "# 使用包含多个索引的元组\n",
    "rows = np.array([0, 2])  # 行索引\n",
    "cols = np.array([1, 2])  # 列索引\n",
    "selected_elements = x[rows, cols] #rows和cols中的元素一一对应\n",
    "print(selected_elements)"
   ]
  },
  {
   "cell_type": "markdown",
   "id": "99ab62b1-f419-4080-a999-27d7e285f73a",
   "metadata": {
    "jp-MarkdownHeadingCollapsed": true
   },
   "source": [
    "## 形状操作\n"
   ]
  },
  {
   "cell_type": "markdown",
   "id": "feb1ad64-7dd8-4bee-b1d6-2b8d33596e8e",
   "metadata": {},
   "source": []
  },
  {
   "cell_type": "markdown",
   "id": "f460fb71-f08d-476f-872f-a0de58b8b26c",
   "metadata": {
    "jp-MarkdownHeadingCollapsed": true
   },
   "source": [
    "### 改变形状\n",
    "\n",
    "一个矩阵的形状的改变可以通过多种方式来实现，以下列举的三种命令返回的是一个修改过的矩阵，并不直接改变操作的矩阵本身\n",
    "\n",
    "- ```np.ravel()``` 转化为一位矩阵，顺序一般是C风格\n",
    "- ```x.reshape(a,b)``` 改变矩阵的形状\n",
    "- ```x.T``` 矩阵转置"
   ]
  },
  {
   "cell_type": "code",
   "execution_count": 32,
   "id": "ad6f4ff1-c40a-4e23-86ff-6483c8234a0f",
   "metadata": {},
   "outputs": [
    {
     "name": "stdout",
     "output_type": "stream",
     "text": [
      "(3, 4)\n",
      "[1. 8. 6. 7. 1. 8. 1. 0. 8. 8. 8. 4.]\n",
      "[[1. 8. 6. 7. 1. 8.]\n",
      " [1. 0. 8. 8. 8. 4.]]\n",
      "[[1. 1. 8.]\n",
      " [8. 8. 8.]\n",
      " [6. 1. 8.]\n",
      " [7. 0. 4.]]\n",
      "(4, 3)\n",
      "[[1. 8. 6. 7.]\n",
      " [1. 8. 1. 0.]\n",
      " [8. 8. 8. 4.]]\n"
     ]
    }
   ],
   "source": [
    "a = np.floor(10*rng.random((3,4)))\n",
    "print(a.shape)\n",
    "print(a.ravel())\n",
    "print(a.reshape(2,6))\n",
    "print(a.T)\n",
    "print(a.T.shape)\n",
    "print(a)"
   ]
  },
  {
   "cell_type": "markdown",
   "id": "0d094846-5426-4253-9811-2b114845c32c",
   "metadata": {},
   "source": [
    "```reshape```操作返回一个修改后的矩阵，但是```resize()```操作则改变矩阵本身"
   ]
  },
  {
   "cell_type": "code",
   "execution_count": 34,
   "id": "7719f486-a4f2-4805-965a-6cd5f6f02e06",
   "metadata": {},
   "outputs": [
    {
     "name": "stdout",
     "output_type": "stream",
     "text": [
      "[[1. 8. 6. 7. 1. 8.]\n",
      " [1. 0. 8. 8. 8. 4.]]\n",
      "(2, 6)\n"
     ]
    }
   ],
   "source": [
    "a.resize(2,6)\n",
    "print(a)\n",
    "print(a.shape)"
   ]
  },
  {
   "cell_type": "markdown",
   "id": "2ff149a9-a4dc-4c47-a37f-f76ae453a919",
   "metadata": {},
   "source": [
    "**当在数组的重塑（reshape）操作中，某个维度被指定为 `-1` 时，NumPy 会自动根据其他已给定的维度来计算这个维度的大小**。\n",
    "\n",
    "在 NumPy 中，`reshape()` 方法用于改变数组的形状。当你指定了某个维度为 `-1`，NumPy 会根据数组的总元素数量和其他维度的大小来自动推算出 `-1` 所对应的维度。\n",
    "\n",
    "**规则：**\n",
    "- **`-1` 只能有一个维度**，即在同一操作中，只有一个维度可以被设置为 `-1`，否则会引发错误。\n",
    "- **`-1` 表示“自动推算”**，NumPy 会根据现有的维度和数组元素的总数来推算出缺失的维度大小，以确保新形状下的元素总数与原数组元素总数相同。\n",
    "\n",
    "**总结：**\n",
    "- `-1` 作为 `reshape()` 的参数时，表示“自动计算该维度的大小”。\n",
    "- 其他维度的大小必须给定，NumPy 会根据这些维度和原始数组的总元素数来推算出 `-1` 对应的维度大小。\n",
    "- 只能在 `reshape()` 中使用一个 `-1`，否则会导致错误。\n",
    "\n",
    "通过这种方式，`-1` 可以让你灵活地调整数组的形状，而无需手动计算每个维度的大小，特别适用于需要动态计算形状的场景。"
   ]
  },
  {
   "cell_type": "code",
   "execution_count": 36,
   "id": "76166a21-9ba6-46e0-ac21-23fffb337775",
   "metadata": {},
   "outputs": [
    {
     "name": "stdout",
     "output_type": "stream",
     "text": [
      "[[1. 8. 6. 7.]\n",
      " [1. 8. 1. 0.]\n",
      " [8. 8. 8. 4.]]\n"
     ]
    }
   ],
   "source": [
    "print(a.reshape(3, -1))"
   ]
  },
  {
   "cell_type": "markdown",
   "id": "7097e4c0-fa0f-4f10-9691-bf2ff76b869d",
   "metadata": {
    "jp-MarkdownHeadingCollapsed": true
   },
   "source": [
    "### 将不同的数组堆叠在一起\n",
    "一些矩阵可以堆叠起来根据不同的轴线"
   ]
  },
  {
   "cell_type": "markdown",
   "id": "6d1dce6f-6bbf-45d9-9362-2287a2ddb646",
   "metadata": {},
   "source": [
    "#### **NumPy 中的六种拼接方法总结**\n",
    "\n",
    "NumPy 提供了多种数组拼接方式，每种方法在处理 **1D 和 2D 数组** 时的行为有所不同。下面是 `np.hstack()`、`np.vstack()`、`np.r_`、`np.c_`、`np.concatenate()` 和 `np.column_stack()` 的对比总结。\n",
    "\n",
    "---\n",
    "\n",
    "##### **1. `np.hstack()`**\n",
    "**作用**：\n",
    "- 沿 **水平方向（axis=1）** 拼接多个数组。\n",
    "- **1D 数组拼接后仍然是 1D**。\n",
    "- **2D 数组会按列拼接**（行数不变）。\n",
    "\n",
    "**适用情况**：\n",
    "- **适用于拼接 2D 数组的列**。\n",
    "- **适用于 1D 数组简单扩展（不转换形状）**。\n",
    "\n",
    "**示例**：\n",
    "```python\n",
    "import numpy as np\n",
    "arr1 = np.array([1, 2, 3])\n",
    "arr2 = np.array([4, 5, 6])\n",
    "\n",
    "print(np.hstack((arr1, arr2)))\n",
    "```\n",
    "**输出：**\n",
    "```\n",
    "[1 2 3 4 5 6]\n",
    "```\n",
    "**2D 数组示例**：\n",
    "```python\n",
    "arr1 = np.array([[1], [2], [3]])  # 3x1\n",
    "arr2 = np.array([[4], [5], [6]])  # 3x1\n",
    "\n",
    "print(np.hstack((arr1, arr2)))\n",
    "```\n",
    "**输出：**\n",
    "```\n",
    "[[1 4]\n",
    " [2 5]\n",
    " [3 6]]\n",
    "```\n",
    "\n",
    "**等价于**：\n",
    "```python\n",
    "np.concatenate((arr1, arr2), axis=1)\n",
    "```\n",
    "\n",
    "---\n",
    "\n",
    "##### **2. `np.vstack()`**\n",
    "**作用**：\n",
    "- 沿 **垂直方向（axis=0）** 拼接多个数组。\n",
    "- **无论 1D 还是 2D，拼接后都会变成 2D**。\n",
    "\n",
    "**适用情况**：\n",
    "- **适用于拼接 1D 数组，转换为 2D 并按行堆叠**。\n",
    "- **适用于 2D 数组的行拼接**。\n",
    "\n",
    "**示例**：\n",
    "```python\n",
    "arr1 = np.array([1, 2, 3])\n",
    "arr2 = np.array([4, 5, 6])\n",
    "\n",
    "print(np.vstack((arr1, arr2)))\n",
    "```\n",
    "**输出：**\n",
    "```\n",
    "[[1 2 3]\n",
    " [4 5 6]]\n",
    "```\n",
    "\n",
    "**等价于**：\n",
    "```python\n",
    "np.concatenate((arr1.reshape(1, -1), arr2.reshape(1, -1)), axis=0)\n",
    "```\n",
    "\n",
    "---\n",
    "\n",
    "##### **3. `np.r_`**\n",
    "**作用**：\n",
    "- **主要用于 1D 数组的拼接**，沿 `axis=0` 方向拼接，**保持 1D 形状**。\n",
    "- **如果作用于 2D 数组，等价于 `vstack()`**（按行拼接）。\n",
    "\n",
    "**适用情况**：\n",
    "- 快速拼接多个 1D 数组，而不想转换维度。\n",
    "- **作用于 2D 时，效果类似于 `vstack()`（按行拼接）**。\n",
    "\n",
    "**示例**：\n",
    "```python\n",
    "arr1 = np.array([1, 2, 3])\n",
    "arr2 = np.array([4, 5, 6])\n",
    "\n",
    "print(np.r_[arr1, arr2])\n",
    "```\n",
    "**输出：**\n",
    "```\n",
    "[1 2 3 4 5 6]\n",
    "```\n",
    "\n",
    "**如果用于 2D 数组**：\n",
    "```python\n",
    "arr1 = np.array([[1, 2, 3]])\n",
    "arr2 = np.array([[4, 5, 6]])\n",
    "\n",
    "print(np.r_[arr1, arr2])\n",
    "```\n",
    "**输出：**\n",
    "```\n",
    "[[1 2 3]\n",
    " [4 5 6]]\n",
    "```\n",
    "**等价于**：\n",
    "```python\n",
    "np.vstack((arr1, arr2))\n",
    "```\n",
    "\n",
    "---\n",
    "\n",
    "##### **4. `np.c_`**\n",
    "**作用**：\n",
    "- 主要用于 **1D 数组转换为 2D 列向量**，然后按 **列拼接**（`axis=1`）。\n",
    "- 适用于 2D 数组，等同于 `column_stack()`。\n",
    "\n",
    "**适用情况**：\n",
    "- **如果想把 1D 数组变成列向量再拼接，就用 `c_`**。\n",
    "- 适用于 **快速创建列矩阵**（形状 `(n, m)`）。\n",
    "\n",
    "**示例**：\n",
    "```python\n",
    "arr1 = np.array([1, 2, 3])\n",
    "arr2 = np.array([4, 5, 6])\n",
    "\n",
    "print(np.c_[arr1, arr2])\n",
    "```\n",
    "**输出：**\n",
    "```\n",
    "[[1 4]\n",
    " [2 5]\n",
    " [3 6]]\n",
    "```\n",
    "\n",
    "**等价于**：\n",
    "```python\n",
    "np.column_stack((arr1, arr2))\n",
    "```\n",
    "\n",
    "---\n",
    "\n",
    "##### **5. `np.concatenate()`**\n",
    "**作用**：\n",
    "- **通用拼接函数，可用于沿任何 `axis` 进行拼接**（需要显式指定 `axis`）。\n",
    "- 适用于 **1D、2D 及更高维数组的拼接**。\n",
    "\n",
    "**适用情况**：\n",
    "- **如果想要更精确地控制拼接维度，使用 `concatenate()`**。\n",
    "- **适用于拼接高维数组（`hstack()` 和 `vstack()` 只能用于 2D）**。\n",
    "\n",
    "**示例**：\n",
    "```python\n",
    "arr1 = np.array([[1, 2], [3, 4]])\n",
    "arr2 = np.array([[5, 6], [7, 8]])\n",
    "\n",
    "print(np.concatenate((arr1, arr2), axis=0))  # 沿行拼接\n",
    "print(np.concatenate((arr1, arr2), axis=1))  # 沿列拼接\n",
    "```\n",
    "**输出：**\n",
    "```\n",
    "[[1 2]\n",
    " [3 4]\n",
    " [5 6]\n",
    " [7 8]]\n",
    "\n",
    "[[1 2 5 6]\n",
    " [3 4 7 8]]\n",
    "```\n",
    "\n",
    "---\n",
    "\n",
    "##### **6. `np.column_stack()`**\n",
    "**作用**：\n",
    "- **用于 1D 数组时**，会先把它们转换为 **2D 列向量**，然后按列拼接（`axis=1`）。\n",
    "- **对于 2D 数组**，等同于 `np.hstack()`（直接按列拼接）。\n",
    "\n",
    "**适用情况**：\n",
    "- **当你想把 1D 数组转换成 2D** 并按列拼接时使用。\n",
    "- 适用于创建列矩阵（形状 `(n, m)`）。\n",
    "\n",
    "**示例**：\n",
    "```python\n",
    "arr1 = np.array([1, 2, 3])\n",
    "arr2 = np.array([4, 5, 6])\n",
    "\n",
    "print(np.column_stack((arr1, arr2)))\n",
    "```\n",
    "**输出：**\n",
    "```\n",
    "[[1 4]\n",
    " [2 5]\n",
    " [3 6]]\n",
    "```\n",
    "**等价于**：\n",
    "```python\n",
    "np.hstack((arr1.reshape(-1,1), arr2.reshape(-1,1)))\n",
    "```\n",
    "\n",
    "---\n",
    "\n",
    "##### **总结对比**\n",
    "| 方法 | 作用 | 适用对象 | `axis` 方向 | 结果形状 | 等价于 |\n",
    "|------|------|------|-----------|---------|--------------|\n",
    "| **`hstack()`** | 水平拼接 | 1D/2D | `axis=1` | 1D / 2D | np.concatenate((arr1, arr2), axis=1) |\n",
    "| **`vstack()`** | 垂直拼接 | 1D/2D | `axis=0` | 2D | np.concatenate((arr1.reshape(1, -1), arr2.reshape(1, -1)), axis=0) |\n",
    "| **`r_`** | 1D 拼接（保持 1D）或 2D 按行拼接 | 1D/2D | `axis=0` | 1D/2D | np.vstack((arr1, arr2)) |\n",
    "| **`c_`** | 1D 转 2D 列向量再拼接 | 1D/2D | `axis=1` | 2D | np.column_stack((arr1, arr2)) |\n",
    "| **`concatenate()`** | 任意 `axis` 拼接 | 任意维度 | `axis` 可指定 | 取决于 `axis` | |\n",
    "| **`column_stack()`** | 1D 转 2D 列向量后拼接 | 1D/2D | `axis=1` | 2D | np.hstack((arr1.reshape(-1,1), arr2.reshape(-1,1))) |\n",
    "\n",
    "这六种方法各有用途，可以根据实际需求选择合适的方法！"
   ]
  },
  {
   "cell_type": "markdown",
   "id": "12eb85e8-be2b-4a59-b05a-e490ca87a629",
   "metadata": {
    "jp-MarkdownHeadingCollapsed": true
   },
   "source": [
    "### **将一个数组拆分为几个较小的数组**\n",
    "\n",
    "在 NumPy 中，**`split`** 操作用于将数组沿指定的轴分割成多个子数组。NumPy 提供了几种不同的分割方法，包括 `split()`、`hsplit()`、`vsplit()` 和 `array_split()`。这些方法允许根据不同的需求和轴来分割数组。"
   ]
  },
  {
   "cell_type": "markdown",
   "id": "8b672c65-3ba6-4685-87f5-8c919386acfd",
   "metadata": {},
   "source": [
    "#### **1. `numpy.split()`**\n",
    "`numpy.split()` 是最通用的分割方法，可以沿指定的轴将数组分割成多个子数组。\n",
    "\n",
    "**函数签名：**\n",
    "```python\n",
    "numpy.split(ary, indices_or_sections, axis=0)\n",
    "```\n",
    "\n",
    "- **`ary`**：要分割的输入数组。\n",
    "- **`indices_or_sections`**：指定分割的方式。可以是一个整数（表示将数组等分成多少块）或一个整数列表（表示具体的分割位置）。\n",
    "- **`axis`**：分割的轴，默认为 0（按行分割）。可以指定为 1（按列分割）等。\n",
    "\n",
    "**示例：**\n",
    "```python\n",
    "import numpy as np\n",
    "\n",
    "arr = np.array([1, 2, 3, 4, 5, 6])\n",
    "\n",
    "# 将数组等分成 3 个部分\n",
    "result = np.split(arr, 3)\n",
    "print(result)\n",
    "```\n",
    "**输出：**\n",
    "```\n",
    "[array([1, 2]), array([3, 4]), array([5, 6])]\n",
    "```\n",
    "\n",
    "- **`np.split()`** 将数组分成 3 个部分。它可以用于 1D、2D 和更高维度的数组。\n",
    "\n",
    "---\n",
    "\n",
    "#### **2. `numpy.hsplit()`**\n",
    "`numpy.hsplit()` 用于沿 **水平方向（axis=1）** 将数组分割成多个子数组。它是 `split()` 的一个简化版本，专门用于按列分割数组。\n",
    "\n",
    "**函数签名：**\n",
    "```python\n",
    "numpy.hsplit(ary, indices_or_sections)\n",
    "```\n",
    "\n",
    "- **`ary`**：要分割的输入数组，必须是 2D 数组。\n",
    "- **`indices_or_sections`**：指定分割的位置，通常为整数或一个整数列表，表示按列的分割位置。\n",
    "\n",
    "**示例：**\n",
    "```python\n",
    "arr = np.array([[1, 2, 3, 4], [5, 6, 7, 8]])\n",
    "\n",
    "# 将数组按列分割成 2 部分\n",
    "result = np.hsplit(arr, 2)\n",
    "print(result)\n",
    "```\n",
    "**输出：**\n",
    "```\n",
    "[array([[1, 2], [5, 6]]), array([[3, 4], [7, 8]])]\n",
    "```\n",
    "\n",
    "- **`np.hsplit()`** 将二维数组按列分割成 2 个子数组。这个函数适用于 **2D 数组**。\n",
    "\n",
    "---\n",
    "\n",
    "#### **3. `numpy.vsplit()`**\n",
    "`numpy.vsplit()` 用于沿 **垂直方向（axis=0）** 将数组分割成多个子数组。它是 `split()` 的一个简化版本，专门用于按行分割数组。\n",
    "\n",
    "**函数签名：**\n",
    "```python\n",
    "numpy.vsplit(ary, indices_or_sections)\n",
    "```\n",
    "\n",
    "- **`ary`**：要分割的输入数组，必须是 2D 数组。\n",
    "- **`indices_or_sections`**：指定分割的位置，通常为整数或一个整数列表，表示按行的分割位置。\n",
    "\n",
    "**示例：**\n",
    "```python\n",
    "arr = np.array([[1, 2, 3], [4, 5, 6], [7, 8, 9]])\n",
    "\n",
    "# 将数组按行分割成 3 部分\n",
    "result = np.vsplit(arr, 3)\n",
    "print(result)\n",
    "```\n",
    "**输出：**\n",
    "```\n",
    "[array([[1, 2, 3]]), array([[4, 5, 6]]), array([[7, 8, 9]])]\n",
    "```\n",
    "\n",
    "- **`np.vsplit()`** 将二维数组按行分割成 3 个子数组。这个函数适用于 **2D 数组**。\n",
    "\n",
    "---\n",
    "\n",
    "#### **4. `numpy.array_split()`**\n",
    "`numpy.array_split()` 是 `split()` 方法的一个扩展，**允许在无法均匀分割时**，将数组分割成 **不等长的子数组**。如果指定的分割点不能均匀分配，`array_split()` 会自动处理剩余元素。\n",
    "\n",
    "**函数签名：**\n",
    "```python\n",
    "numpy.array_split(ary, indices_or_sections, axis=0)\n",
    "```\n",
    "\n",
    "- **`ary`**：要分割的输入数组。\n",
    "- **`indices_or_sections`**：指定分割的方式，通常为整数或整数列表。\n",
    "- **`axis`**：分割的轴，默认为 0。\n",
    "\n",
    "**示例：**\n",
    "```python\n",
    "arr = np.array([1, 2, 3, 4, 5])\n",
    "\n",
    "# 将数组分割成 3 部分，数组不能均匀分割\n",
    "result = np.array_split(arr, 3)\n",
    "print(result)\n",
    "```\n",
    "**输出：**\n",
    "```\n",
    "[array([1, 2]), array([3, 4]), array([5])]\n",
    "```\n",
    "\n",
    "- **`np.array_split()`** 将 1D 数组分割成 3 个部分，并且允许其中的一个部分含有一个额外的元素。\n",
    "\n",
    "---\n",
    "\n",
    "#### **总结**\n",
    "| 方法 | 作用 | 适用情况 |\n",
    "|------|------|----------|\n",
    "| `np.split()` | 按指定位置或等分将数组分割 | 任意维度的数组 |\n",
    "| `np.hsplit()` | 沿水平方向（按列）分割数组 | 2D 数组 |\n",
    "| `np.vsplit()` | 沿垂直方向（按行）分割数组 | 2D 数组 |\n",
    "| `np.array_split()` | 允许不等长的子数组分割 | 任意维度的数组，自动处理不均匀分割 |\n",
    "\n",
    "**选择使用方法：**\n",
    "- **`split()`** 适用于需要精确控制分割位置和大小的情况。\n",
    "- **`hsplit()` 和 `vsplit()`** 分别是针对 **2D 数组按列或按行分割** 的便捷方法。\n",
    "- **`array_split()`** 是 `split()` 的扩展，允许不均匀分割，当元素不能完全均匀分配时使用。\n",
    "\n",
    "根据数组的维度和你对分割大小的需求，可以选择不同的函数来进行分割操作。"
   ]
  },
  {
   "cell_type": "code",
   "execution_count": 7,
   "id": "24474075-ebc9-459a-ba74-d4b2e5f2ecf0",
   "metadata": {},
   "outputs": [
    {
     "name": "stdout",
     "output_type": "stream",
     "text": [
      "[[ 0  1  2  3  4  5]\n",
      " [ 6  7  8  9 10 11]]\n",
      "[array([[0, 1],\n",
      "       [6, 7]]), array([[2, 3],\n",
      "       [8, 9]]), array([[ 4,  5],\n",
      "       [10, 11]])]\n",
      "[array([[0, 1],\n",
      "       [6, 7]]), array([[2, 3],\n",
      "       [8, 9]]), array([[ 4,  5],\n",
      "       [10, 11]])]\n"
     ]
    }
   ],
   "source": [
    "import numpy as np\n",
    "a = np.arange(12).reshape(2,6)\n",
    "print(a)\n",
    "print(np.split(a,3,axis = 1))\n",
    "print(np.split(a,(2,4),axis = 1))"
   ]
  },
  {
   "cell_type": "markdown",
   "id": "97cdb68f-740b-4bd0-b2ff-1d3399bfd137",
   "metadata": {
    "jp-MarkdownHeadingCollapsed": true
   },
   "source": [
    "## __Copies and Views__\n",
    "主要分为三种情况：\n",
    "1. 没有复制，其实只是标签\n",
    "2. 浅拷贝\n",
    "3. 深度复制"
   ]
  },
  {
   "cell_type": "markdown",
   "id": "b0e06524-a5a4-49cc-baff-95b687a81c06",
   "metadata": {},
   "source": [
    "### 简单赋值不复制对象及其数据"
   ]
  },
  {
   "cell_type": "code",
   "execution_count": 8,
   "id": "c8ccd4fc-3240-4cee-9f72-cfba502e2413",
   "metadata": {},
   "outputs": [
    {
     "data": {
      "text/plain": [
       "True"
      ]
     },
     "execution_count": 8,
     "metadata": {},
     "output_type": "execute_result"
    }
   ],
   "source": [
    "a = np.array([[ 0,  1,  2,  3],\n",
    "              [ 4,  5,  6,  7],\n",
    "              [ 8,  9, 10, 11]])\n",
    "b = a            # no new object is created\n",
    "b is a           # a and b are two names for the same ndarray object"
   ]
  },
  {
   "cell_type": "markdown",
   "id": "8a0e99f0-8d76-4616-af73-9b4e4ca24914",
   "metadata": {},
   "source": [
    "### 视图和浅拷贝\n"
   ]
  },
  {
   "cell_type": "markdown",
   "id": "3c49b27c-aae7-428b-8930-5aa93518d24d",
   "metadata": {},
   "source": [
    "**NumPy 中的 View（视图）**\n",
    "在 NumPy 中，`view`（视图）是一种 **共享数据但不同对象** 的数组副本。它允许多个数组对象共享相同的数据，但**彼此独立地修改形状或视图**，而不会影响原始数据存储。但是视图的id（储存地址）与原id不同。\n",
    "\n",
    "---\n",
    "\n",
    "**1. 什么是 NumPy 视图（View）？**\n",
    "- **视图（View）不会复制数据**，只是创建了一个不同的数组对象来引用相同的数据。\n",
    "- **修改视图的元素**，原数组的对应元素也会随之变化（因为它们共享同一块内存）。\n",
    "- **适用于内存优化**，可以避免不必要的数据复制，提高效率。\n",
    "\n",
    "---\n",
    "\n",
    "**2. 创建 View**\n",
    "在 NumPy 中，可以使用 `.view()` 方法创建数组的视图。\n",
    "\n",
    "```python\n",
    "import numpy as np\n",
    "\n",
    "arr = np.array([1, 2, 3, 4, 5])\n",
    "view_arr = arr.view()\n",
    "\n",
    "print(\"原数组:\", arr)\n",
    "print(\"视图数组:\", view_arr)\n",
    "```\n",
    "**输出：**\n",
    "```\n",
    "原数组: [1 2 3 4 5]\n",
    "视图数组: [1 2 3 4 5]\n",
    "```\n",
    "**特点：**\n",
    "- `view_arr` 和 `arr` **共享相同的数据**。\n",
    "- **两个对象是独立的**，但底层数据是共享的。\n",
    "\n",
    "---\n",
    "\n",
    "**3. 修改视图，原数组也会变**\n",
    "```python\n",
    "view_arr[0] = 99\n",
    "\n",
    "print(\"修改视图后：\")\n",
    "print(\"原数组:\", arr)\n",
    "print(\"视图数组:\", view_arr)\n",
    "```\n",
    "**输出：**\n",
    "```\n",
    "修改视图后：\n",
    "原数组: [99  2  3  4  5]\n",
    "视图数组: [99  2  3  4  5]\n",
    "```\n",
    "**说明：**\n",
    "- **修改 `view_arr`，`arr` 也随之改变**，因为它们共享相同的数据。\n",
    "\n",
    "---\n",
    "\n",
    "**4. 视图与原数组的 `id`（内存地址）不同**\n",
    "```python\n",
    "print(id(arr))       # 原数组的内存地址\n",
    "print(id(view_arr))  # 视图数组的内存地址\n",
    "```\n",
    "- `id(arr) != id(view_arr)`，说明它们是 **两个不同的数组对象**，但共享相同的数据。\n",
    "\n",
    "---\n",
    "\n",
    "**5. 视图不会复制数据，但切片可能创建视图**\n",
    "\n",
    "在 NumPy 中，对数组进行 **切片（slicing）** 通常会创建视图，而不是副本。\n",
    "\n",
    "```python\n",
    "arr = np.array([10, 20, 30, 40, 50])\n",
    "view_arr = arr[1:4]  # 取索引 1 到 3 的子数组\n",
    "\n",
    "print(\"原数组:\", arr)\n",
    "print(\"视图数组:\", view_arr)\n",
    "\n",
    "# 修改视图\n",
    "view_arr[0] = 99\n",
    "print(\"修改视图后：\")\n",
    "print(\"原数组:\", arr)\n",
    "print(\"视图数组:\", view_arr)\n",
    "```\n",
    "**输出：**\n",
    "```\n",
    "原数组: [10 20 30 40 50]\n",
    "视图数组: [20 30 40]\n",
    "\n",
    "修改视图后：\n",
    "原数组: [10 99 30 40 50]\n",
    "视图数组: [99 30 40]\n",
    "```\n",
    "**说明：**\n",
    "- **切片创建的是视图，而不是副本**，所以修改 `view_arr` 会影响 `arr`。\n",
    "\n",
    "---\n",
    "\n",
    "**6. 什么时候 `view()` 可能变成副本？**\n",
    "**如果视图的形状被改变（例如 reshape），可能会触发 NumPy 复制数据，导致 `view` 变成 `copy`。**\n",
    "\n",
    "```python\n",
    "arr = np.array([[1, 2, 3], [4, 5, 6]])\n",
    "view_arr = arr.view().reshape(3, 2)\n",
    "\n",
    "print(\"原数组 shape:\", arr.shape)\n",
    "print(\"视图数组 shape:\", view_arr.shape)\n",
    "```\n",
    "**如果 reshape 不能保持连续的内存布局，NumPy 可能会创建副本，而不是视图。**\n",
    "\n",
    "---\n",
    "\n",
    "**7. `base` 属性判断是否是视图**\n",
    "在 NumPy 中，可以使用 `.base` 来检查一个数组是否是视图：\n",
    "\n",
    "```python\n",
    "arr = np.array([1, 2, 3, 4])\n",
    "view_arr = arr.view()\n",
    "\n",
    "print(view_arr.base)  # 输出原数组\n",
    "```\n",
    "**输出：**\n",
    "```\n",
    "[1 2 3 4]\n",
    "```\n",
    "**说明：**\n",
    "- 如果 `view_arr.base` **返回原数组，则是该数组的副本\n",
    "- 如果返回`None`则说明是副本"
   ]
  },
  {
   "cell_type": "markdown",
   "id": "d31d1b99-3555-4349-bf02-4e4e597b0ec4",
   "metadata": {},
   "source": [
    "### 深度复制"
   ]
  },
  {
   "cell_type": "markdown",
   "id": "2cd53813-64c6-441d-b890-313032c688ed",
   "metadata": {},
   "source": [
    "在 NumPy 中，**深度复制（Deep Copy）** 是指创建一个新数组，该数组具有与原数组相同的数据和形状，但它的内存地址是完全独立的。也就是说，修改新数组的内容不会影响原数组，反之亦然。\n",
    "\n",
    "**深度复制的概念**\n",
    "- **浅复制（Shallow Copy）**：如果你只是简单地复制一个数组（例如通过赋值），原数组和新数组会共享相同的数据内存区域，修改其中一个数组会影响另一个数组。\n",
    "- **深度复制（Deep Copy）**：通过深度复制，新数组是原数组的独立副本。修改深度复制的数组不会影响原数组，反之亦然。\n",
    "\n",
    "**如何进行深度复制**\n",
    "\n",
    "NumPy 提供了 `copy()` 方法来执行 **深度复制**。\n",
    "\n",
    "**`copy()` 方法**\n",
    "- **`copy()`**：通过这个方法创建一个新的数组，该数组是原数组的完全副本，包括数据、形状、类型等。修改副本不会影响原数组。\n",
    "\n",
    "**示例：**\n",
    "\n",
    "```python\n",
    "import numpy as np\n",
    "\n",
    "# 创建原始数组\n",
    "arr = np.array([1, 2, 3, 4, 5])\n",
    "\n",
    "# 创建深度复制\n",
    "arr_copy = arr.copy()\n",
    "\n",
    "# 修改副本的内容\n",
    "arr_copy[0] = 10\n",
    "\n",
    "# 打印原数组和副本\n",
    "print(\"Original Array:\", arr)       # 输出: [1 2 3 4 5]\n",
    "print(\"Copied Array:\", arr_copy)    # 输出: [10 2 3 4 5]\n",
    "```\n",
    "\n",
    "**解释：**\n",
    "- `arr_copy` 是 `arr` 的一个深度复制。虽然 `arr_copy` 中的第一个元素被修改为 `10`，但 `arr` 中的内容没有变化，这表明它们是 **独立的**。\n",
    "- 这就意味着深度复制创建了一个完全独立的副本，与原数组没有内存共享。\n",
    "\n",
    "**深度复制与浅复制的区别**\n",
    "\n",
    "1. **浅复制：**\n",
    "   - 使用切片或 `view()` 创建的数组是 **浅复制**，这意味着它们与原数组共享相同的内存。\n",
    "   - 修改一个数组的内容会影响另一个数组。\n",
    "   \n",
    "2. **深度复制：**\n",
    "   - 使用 `copy()` 创建的数组是 **深度复制**，它拥有自己的内存。\n",
    "   - 修改深度复制的数组不会影响原数组。\n",
    "\n",
    "**示例：浅复制与深度复制的区别**\n",
    "\n",
    "```python\n",
    "import numpy as np\n",
    "\n",
    "# 创建原始数组\n",
    "arr = np.array([1, 2, 3, 4, 5])\n",
    "\n",
    "# 浅复制（使用切片）\n",
    "arr_slice = arr[:]\n",
    "\n",
    "# 深度复制\n",
    "arr_copy = arr.copy()\n",
    "\n",
    "# 修改浅复制的内容\n",
    "arr_slice[0] = 10\n",
    "\n",
    "# 修改深度复制的内容\n",
    "arr_copy[1] = 20\n",
    "\n",
    "# 打印原数组和复制数组\n",
    "print(\"Original Array:\", arr)         # 输出: [10  2  3  4  5]\n",
    "print(\"Shallow Copy:\", arr_slice)     # 输出: [10  2  3  4  5]\n",
    "print(\"Deep Copy:\", arr_copy)         # 输出: [1 20  3  4  5]\n",
    "```\n",
    "\n",
    "**`copy()` 的使用场景**\n",
    "1. **防止原数组被修改**：当你想要操作数组的副本，而不想影响原始数据时，可以使用深度复制。\n",
    "2. **内存隔离**：在复杂的操作中，深度复制可以避免由于共享内存而引发的错误。\n",
    "3. **独立的修改**：当需要在副本上进行修改操作，并且不希望修改影响到原始数组时，使用 `copy()` 方法可以确保数据的独立性。\n",
    "\n",
    "**总结**\n",
    "- **深度复制（Deep Copy）** 使用 `copy()` 方法来创建一个数组的独立副本，修改副本不会影响原始数组。\n",
    "- **浅复制（Shallow Copy）** 则不会复制数据，而是共享原数组的数据，修改一个数组会影响到另一个数组。\n",
    "- 使用 `copy()` 时，可以确保原数组与复制数组的完全独立，适用于需要对数组进行独立操作的场景。"
   ]
  },
  {
   "cell_type": "code",
   "execution_count": null,
   "id": "851768ba-60c7-45f2-833a-268e9dfde97c",
   "metadata": {},
   "outputs": [],
   "source": []
  },
  {
   "cell_type": "code",
   "execution_count": null,
   "id": "ee36e430-6927-4dfe-a630-4e2b10179fdb",
   "metadata": {},
   "outputs": [],
   "source": []
  },
  {
   "cell_type": "code",
   "execution_count": null,
   "id": "0cb8dfd4-f22e-4f89-9645-5988f1f7b2d8",
   "metadata": {},
   "outputs": [],
   "source": []
  }
 ],
 "metadata": {
  "kernelspec": {
   "display_name": "Python 3 (ipykernel)",
   "language": "python",
   "name": "python3"
  },
  "language_info": {
   "codemirror_mode": {
    "name": "ipython",
    "version": 3
   },
   "file_extension": ".py",
   "mimetype": "text/x-python",
   "name": "python",
   "nbconvert_exporter": "python",
   "pygments_lexer": "ipython3",
   "version": "3.9.21"
  }
 },
 "nbformat": 4,
 "nbformat_minor": 5
}
