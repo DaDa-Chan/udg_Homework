{
 "cells": [
  {
   "cell_type": "markdown",
   "id": "fb5800ea-7eec-4380-9eaa-6aba322d77ce",
   "metadata": {},
   "source": [
    "# Numpy自学教程\n",
    "本自学笔记参照Numpy官方文档"
   ]
  },
  {
   "cell_type": "markdown",
   "id": "5c260209-59ea-4e32-9ba1-978c594ddd1c",
   "metadata": {},
   "source": [
    "## Numpy中的Array Creation"
   ]
  },
  {
   "cell_type": "markdown",
   "id": "ce58a340-a721-4166-9b83-0259709de7a7",
   "metadata": {},
   "source": [
    "### Introduction\n",
    "主要有六种创建matrix的机制\n",
    "1. 序列转化（list & tuple）\n",
    "2. 基本的内置函数\n",
    "3. 复制、连接或改变现有数组\n",
    "4. 从磁盘读取数组，从标准格式或自定义格式读取\n",
    "5. 通过使用字符串或缓冲区从原始字节创建数组\n",
    "6. 使用特殊的库函数（e.g. random）"
   ]
  },
  {
   "cell_type": "markdown",
   "id": "5e9d7fe9-bd8f-46f0-82bf-8dff8bab6550",
   "metadata": {},
   "source": [
    "#### 序列转化\n",
    "将数组或者元组转化为矩阵\n",
    "主要的函数为：np.array（x,dtype） //x为数组or元组，dtpye是optional的\n",
    "以下为一些例子"
   ]
  },
  {
   "cell_type": "code",
   "execution_count": 20,
   "id": "70890bb4-5bee-4724-957b-43ffb6af011a",
   "metadata": {},
   "outputs": [
    {
     "name": "stdout",
     "output_type": "stream",
     "text": [
      "The autoreload extension is already loaded. To reload it, use:\n",
      "  %reload_ext autoreload\n",
      "a1D = [1 2 3 4]\n",
      "a2D = [[1 2]\n",
      " [3 4]]\n"
     ]
    },
    {
     "data": {
      "text/plain": [
       "array([[[1, 2],\n",
       "        [3, 4]],\n",
       "\n",
       "       [[5, 6],\n",
       "        [7, 8]]])"
      ]
     },
     "execution_count": 20,
     "metadata": {},
     "output_type": "execute_result"
    }
   ],
   "source": [
    "import numpy as np\n",
    "a1D = np.array([1, 2, 3, 4])\n",
    "a2D = np.array([[1, 2], [3, 4]])\n",
    "a3D = np.array([[[1, 2], [3, 4]], [[5, 6], [7, 8]]])\n",
    "\n",
    "print(\"a1D =\", a1D)\n",
    "print(\"a2D =\", a2D)\n",
    "\n",
    "a3D"
   ]
  },
  {
   "cell_type": "code",
   "execution_count": null,
   "id": "5dd2164b-2415-42ae-9d44-7cc144b453c2",
   "metadata": {},
   "outputs": [],
   "source": []
  },
  {
   "cell_type": "code",
   "execution_count": null,
   "id": "51c56814-cd24-4031-a7f2-aabcd2bf4f85",
   "metadata": {},
   "outputs": [],
   "source": []
  },
  {
   "cell_type": "code",
   "execution_count": null,
   "id": "986ec8e0-826d-4bdf-90b0-dafa1e4f6a4d",
   "metadata": {},
   "outputs": [],
   "source": []
  },
  {
   "cell_type": "code",
   "execution_count": null,
   "id": "187f22cc-12de-45d1-96e8-e59691b710ed",
   "metadata": {},
   "outputs": [],
   "source": []
  },
  {
   "cell_type": "code",
   "execution_count": null,
   "id": "ae9b5634-76e9-4769-972b-02fb3bc4a45b",
   "metadata": {},
   "outputs": [],
   "source": []
  }
 ],
 "metadata": {
  "kernelspec": {
   "display_name": "Python 3 (ipykernel)",
   "language": "python",
   "name": "python3"
  },
  "language_info": {
   "codemirror_mode": {
    "name": "ipython",
    "version": 3
   },
   "file_extension": ".py",
   "mimetype": "text/x-python",
   "name": "python",
   "nbconvert_exporter": "python",
   "pygments_lexer": "ipython3",
   "version": "3.9.21"
  }
 },
 "nbformat": 4,
 "nbformat_minor": 5
}
